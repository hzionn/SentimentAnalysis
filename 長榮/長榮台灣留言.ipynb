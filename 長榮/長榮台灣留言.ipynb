{
 "cells": [
  {
   "cell_type": "code",
   "execution_count": 15,
   "metadata": {},
   "outputs": [],
   "source": [
    "texts = ''\n",
    "\n",
    "with open('長榮_ETtoday新聞網_cleaned.csv', 'r', encoding='utf-8') as f:\n",
    "    f = f.read()\n",
    "    for i in f:\n",
    "        if i not in list('COMMENTSabcdefghijklmnopqrstuvwxyz~1234567890\\n'):\n",
    "            texts += i"
   ]
  },
  {
   "cell_type": "code",
   "execution_count": 16,
   "metadata": {},
   "outputs": [],
   "source": [
    "with open('長榮_東森新聞_cleaned.csv', 'r', encoding='utf-8') as f:\n",
    "    f = f.read()\n",
    "    for i in f:\n",
    "        if i not in list('COMMENTSabcdefghijklmnopqrstuvwxyz~1234567890\\n'):\n",
    "            texts += i"
   ]
  },
  {
   "cell_type": "code",
   "execution_count": 17,
   "metadata": {},
   "outputs": [],
   "source": [
    "with open('長榮_聯合報_cleaned.csv', 'r', encoding='utf-8') as f:\n",
    "    f = f.read()\n",
    "    for i in f:\n",
    "        if i not in list('COMMENTSabcdefghijklmnopqrstuvwxyz~1234567890\\n'):\n",
    "            texts += i"
   ]
  },
  {
   "cell_type": "code",
   "execution_count": 18,
   "metadata": {},
   "outputs": [],
   "source": [
    "with open('長榮台灣留言.txt', 'w+', encoding='utf-8') as f:\n",
    "    f.write(texts)"
   ]
  },
  {
   "cell_type": "code",
   "execution_count": null,
   "metadata": {},
   "outputs": [],
   "source": []
  }
 ],
 "metadata": {
  "kernelspec": {
   "display_name": "Python 3",
   "language": "python",
   "name": "python3"
  },
  "language_info": {
   "codemirror_mode": {
    "name": "ipython",
    "version": 3
   },
   "file_extension": ".py",
   "mimetype": "text/x-python",
   "name": "python",
   "nbconvert_exporter": "python",
   "pygments_lexer": "ipython3",
   "version": "3.8.5"
  }
 },
 "nbformat": 4,
 "nbformat_minor": 4
}
