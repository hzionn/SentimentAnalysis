{
 "cells": [
  {
   "cell_type": "markdown",
   "metadata": {},
   "source": [
    "# 前置作業\n",
    "\n",
    "[Dcard API](https://blog.jiatool.com/posts/dcard_api_v2/)\n",
    "\n",
    "[NRC實作](https://zhuanlan.zhihu.com/p/101354375)\n",
    "\n",
    "[NRC官網](https://www.saifmohammad.com/WebPages/NRC-Emotion-Lexicon.htm)\n",
    "\n",
    "[NRC-Persian-Lexicon-GIT](https://github.com/mhbashari/NRC-Persian-Lexicon)"
   ]
  },
  {
   "cell_type": "code",
   "execution_count": 22,
   "metadata": {},
   "outputs": [],
   "source": [
    "import pandas as pd\n",
    "import time, jieba\n",
    "import matplotlib.pyplot as plt\n",
    "import seaborn as sns"
   ]
  },
  {
   "cell_type": "code",
   "execution_count": 2,
   "metadata": {},
   "outputs": [
    {
     "data": {
      "text/html": [
       "<div>\n",
       "<style scoped>\n",
       "    .dataframe tbody tr th:only-of-type {\n",
       "        vertical-align: middle;\n",
       "    }\n",
       "\n",
       "    .dataframe tbody tr th {\n",
       "        vertical-align: top;\n",
       "    }\n",
       "\n",
       "    .dataframe thead th {\n",
       "        text-align: right;\n",
       "    }\n",
       "</style>\n",
       "<table border=\"1\" class=\"dataframe\">\n",
       "  <thead>\n",
       "    <tr style=\"text-align: right;\">\n",
       "      <th></th>\n",
       "      <th>English Word</th>\n",
       "      <th>Arabic Translation (Google Translate)</th>\n",
       "      <th>Basque Translation (Google Translate)</th>\n",
       "      <th>Bengali Translation (Google Translate)</th>\n",
       "      <th>Catalan Translation (Google Translate)</th>\n",
       "      <th>Chinese (simplified) Translation (Google Translate)</th>\n",
       "      <th>Chinese (traditional) Translation (Google Translate)</th>\n",
       "      <th>Danish Translation (Google Translate)</th>\n",
       "      <th>Dutch Translation (Google Translate)</th>\n",
       "      <th>Esperanto Translation (Google Translate)</th>\n",
       "      <th>...</th>\n",
       "      <th>Positive</th>\n",
       "      <th>Negative</th>\n",
       "      <th>Anger</th>\n",
       "      <th>Anticipation</th>\n",
       "      <th>Disgust</th>\n",
       "      <th>Fear</th>\n",
       "      <th>Joy</th>\n",
       "      <th>Sadness</th>\n",
       "      <th>Surprise</th>\n",
       "      <th>Trust</th>\n",
       "    </tr>\n",
       "  </thead>\n",
       "  <tbody>\n",
       "    <tr>\n",
       "      <th>0</th>\n",
       "      <td>aback</td>\n",
       "      <td>الى الوراء</td>\n",
       "      <td>aback</td>\n",
       "      <td>পশ্চাতে</td>\n",
       "      <td>darrere</td>\n",
       "      <td>吓了一跳</td>\n",
       "      <td>嚇了一跳</td>\n",
       "      <td>overrasket</td>\n",
       "      <td>verrast</td>\n",
       "      <td>surprizita</td>\n",
       "      <td>...</td>\n",
       "      <td>0</td>\n",
       "      <td>0</td>\n",
       "      <td>0</td>\n",
       "      <td>0</td>\n",
       "      <td>0</td>\n",
       "      <td>0</td>\n",
       "      <td>0</td>\n",
       "      <td>0</td>\n",
       "      <td>0</td>\n",
       "      <td>0</td>\n",
       "    </tr>\n",
       "    <tr>\n",
       "      <th>1</th>\n",
       "      <td>abacus</td>\n",
       "      <td>طبلية تاج</td>\n",
       "      <td>abako</td>\n",
       "      <td>গণনা-যন্ত্রবিশেষ</td>\n",
       "      <td>àbac</td>\n",
       "      <td>算盘</td>\n",
       "      <td>算盤</td>\n",
       "      <td>abacus</td>\n",
       "      <td>abacus</td>\n",
       "      <td>abako</td>\n",
       "      <td>...</td>\n",
       "      <td>0</td>\n",
       "      <td>0</td>\n",
       "      <td>0</td>\n",
       "      <td>0</td>\n",
       "      <td>0</td>\n",
       "      <td>0</td>\n",
       "      <td>0</td>\n",
       "      <td>0</td>\n",
       "      <td>0</td>\n",
       "      <td>1</td>\n",
       "    </tr>\n",
       "    <tr>\n",
       "      <th>2</th>\n",
       "      <td>abandon</td>\n",
       "      <td>تخلى</td>\n",
       "      <td>alde batera utzi</td>\n",
       "      <td>বর্জিত করা</td>\n",
       "      <td>abandonar</td>\n",
       "      <td>放弃</td>\n",
       "      <td>放棄</td>\n",
       "      <td>opgive</td>\n",
       "      <td>verlaten</td>\n",
       "      <td>forlasos</td>\n",
       "      <td>...</td>\n",
       "      <td>0</td>\n",
       "      <td>1</td>\n",
       "      <td>0</td>\n",
       "      <td>0</td>\n",
       "      <td>0</td>\n",
       "      <td>1</td>\n",
       "      <td>0</td>\n",
       "      <td>1</td>\n",
       "      <td>0</td>\n",
       "      <td>0</td>\n",
       "    </tr>\n",
       "    <tr>\n",
       "      <th>3</th>\n",
       "      <td>abandoned</td>\n",
       "      <td>مهجور</td>\n",
       "      <td>abandonatu</td>\n",
       "      <td>পরিত্যক্ত</td>\n",
       "      <td>abandonat</td>\n",
       "      <td>弃</td>\n",
       "      <td>棄</td>\n",
       "      <td>forladte</td>\n",
       "      <td>verlaten</td>\n",
       "      <td>forlasita</td>\n",
       "      <td>...</td>\n",
       "      <td>0</td>\n",
       "      <td>1</td>\n",
       "      <td>1</td>\n",
       "      <td>0</td>\n",
       "      <td>0</td>\n",
       "      <td>1</td>\n",
       "      <td>0</td>\n",
       "      <td>1</td>\n",
       "      <td>0</td>\n",
       "      <td>0</td>\n",
       "    </tr>\n",
       "    <tr>\n",
       "      <th>4</th>\n",
       "      <td>abandonment</td>\n",
       "      <td>هجر</td>\n",
       "      <td>abandono</td>\n",
       "      <td>বিসর্জন</td>\n",
       "      <td>abandonament</td>\n",
       "      <td>放弃</td>\n",
       "      <td>放棄</td>\n",
       "      <td>opgivelse</td>\n",
       "      <td>verlatenheid</td>\n",
       "      <td>forlasas</td>\n",
       "      <td>...</td>\n",
       "      <td>0</td>\n",
       "      <td>1</td>\n",
       "      <td>1</td>\n",
       "      <td>0</td>\n",
       "      <td>0</td>\n",
       "      <td>1</td>\n",
       "      <td>0</td>\n",
       "      <td>1</td>\n",
       "      <td>1</td>\n",
       "      <td>0</td>\n",
       "    </tr>\n",
       "  </tbody>\n",
       "</table>\n",
       "<p>5 rows × 51 columns</p>\n",
       "</div>"
      ],
      "text/plain": [
       "  English Word Arabic Translation (Google Translate)  \\\n",
       "0        aback                            الى الوراء   \n",
       "1       abacus                             طبلية تاج   \n",
       "2      abandon                                  تخلى   \n",
       "3    abandoned                                 مهجور   \n",
       "4  abandonment                                   هجر   \n",
       "\n",
       "  Basque Translation (Google Translate)  \\\n",
       "0                                 aback   \n",
       "1                                 abako   \n",
       "2                      alde batera utzi   \n",
       "3                            abandonatu   \n",
       "4                              abandono   \n",
       "\n",
       "  Bengali Translation (Google Translate)  \\\n",
       "0                                পশ্চাতে   \n",
       "1                       গণনা-যন্ত্রবিশেষ   \n",
       "2                             বর্জিত করা   \n",
       "3                              পরিত্যক্ত   \n",
       "4                                বিসর্জন   \n",
       "\n",
       "  Catalan Translation (Google Translate)  \\\n",
       "0                                darrere   \n",
       "1                                   àbac   \n",
       "2                              abandonar   \n",
       "3                              abandonat   \n",
       "4                           abandonament   \n",
       "\n",
       "  Chinese (simplified) Translation (Google Translate)  \\\n",
       "0                                               吓了一跳    \n",
       "1                                                 算盘    \n",
       "2                                                 放弃    \n",
       "3                                                  弃    \n",
       "4                                                 放弃    \n",
       "\n",
       "  Chinese (traditional) Translation (Google Translate)  \\\n",
       "0                                               嚇了一跳     \n",
       "1                                                 算盤     \n",
       "2                                                 放棄     \n",
       "3                                                  棄     \n",
       "4                                                 放棄     \n",
       "\n",
       "  Danish Translation (Google Translate) Dutch Translation (Google Translate)  \\\n",
       "0                            overrasket                              verrast   \n",
       "1                                abacus                               abacus   \n",
       "2                                opgive                             verlaten   \n",
       "3                              forladte                             verlaten   \n",
       "4                             opgivelse                         verlatenheid   \n",
       "\n",
       "  Esperanto Translation (Google Translate)  ... Positive Negative Anger  \\\n",
       "0                               surprizita  ...        0        0     0   \n",
       "1                                    abako  ...        0        0     0   \n",
       "2                                 forlasos  ...        0        1     0   \n",
       "3                                forlasita  ...        0        1     1   \n",
       "4                                 forlasas  ...        0        1     1   \n",
       "\n",
       "  Anticipation Disgust Fear Joy Sadness Surprise Trust  \n",
       "0            0       0    0   0       0        0     0  \n",
       "1            0       0    0   0       0        0     1  \n",
       "2            0       0    1   0       1        0     0  \n",
       "3            0       0    1   0       1        0     0  \n",
       "4            0       0    1   0       1        1     0  \n",
       "\n",
       "[5 rows x 51 columns]"
      ]
     },
     "execution_count": 2,
     "metadata": {},
     "output_type": "execute_result"
    }
   ],
   "source": [
    "lexion_df = pd.read_excel('NRC-Emotion-Lexicon-v0.92-InManyLanguages-web.xlsx')\n",
    "lexion_df.head()"
   ]
  },
  {
   "cell_type": "code",
   "execution_count": 3,
   "metadata": {},
   "outputs": [
    {
     "name": "stdout",
     "output_type": "stream",
     "text": [
      "Index(['English Word', 'Arabic Translation (Google Translate)',\n",
      "       'Basque Translation (Google Translate)',\n",
      "       'Bengali Translation (Google Translate)',\n",
      "       'Catalan Translation (Google Translate)',\n",
      "       'Chinese (simplified) Translation (Google Translate)',\n",
      "       'Chinese (traditional) Translation (Google Translate)',\n",
      "       'Danish Translation (Google Translate)',\n",
      "       'Dutch Translation (Google Translate)',\n",
      "       'Esperanto Translation (Google Translate)',\n",
      "       'Finnish Translation (Google Translate)',\n",
      "       'French Translation (Google Translate)',\n",
      "       'German Translation (Google Translate)',\n",
      "       'Greek Translation (Google Translate)',\n",
      "       'Gujarati Translation (Google Translate)',\n",
      "       'Hebrew Translation (Google Translate)',\n",
      "       'Hindi Translation (Google Translate)',\n",
      "       'Irish Translation (Google Translate)',\n",
      "       'Italian Translation (Google Translate)',\n",
      "       'Japanese Translation (Google Translate)',\n",
      "       'Latin Translation (Google Translate)',\n",
      "       'Marathi Translation (Google Translate)',\n",
      "       'Persian Translation (Google Translate)',\n",
      "       'Portuguese Translation (Google Translate)',\n",
      "       'Romanian Translation (Google Translate)',\n",
      "       'Russian Translation (Google Translate)',\n",
      "       'Somali Translation (Google Translate)',\n",
      "       'Spanish Translation (Google Translate)',\n",
      "       'Sudanese Translation (Google Translate)',\n",
      "       'Swahili Translation (Google Translate)',\n",
      "       'Swedish Translation (Google Translate)',\n",
      "       'Tamil Translation (Google Translate)',\n",
      "       'Telugu Translation (Google Translate)',\n",
      "       'Thai Translation (Google Translate)',\n",
      "       'Turkish Translation (Google Translate)',\n",
      "       'Ukranian Translation (Google Translate)',\n",
      "       'Urdu Translation (Google Translate)',\n",
      "       'Vietnamese Translation (Google Translate)',\n",
      "       'Welsh Translation (Google Translate)',\n",
      "       'Yiddish Translation (Google Translate)',\n",
      "       'Zulu Translation (Google Translate)', 'Positive', 'Negative', 'Anger',\n",
      "       'Anticipation', 'Disgust', 'Fear', 'Joy', 'Sadness', 'Surprise',\n",
      "       'Trust'],\n",
      "      dtype='object')\n"
     ]
    }
   ],
   "source": [
    "print(lexion_df.columns)"
   ]
  },
  {
   "cell_type": "code",
   "execution_count": 4,
   "metadata": {},
   "outputs": [
    {
     "data": {
      "text/html": [
       "<div>\n",
       "<style scoped>\n",
       "    .dataframe tbody tr th:only-of-type {\n",
       "        vertical-align: middle;\n",
       "    }\n",
       "\n",
       "    .dataframe tbody tr th {\n",
       "        vertical-align: top;\n",
       "    }\n",
       "\n",
       "    .dataframe thead th {\n",
       "        text-align: right;\n",
       "    }\n",
       "</style>\n",
       "<table border=\"1\" class=\"dataframe\">\n",
       "  <thead>\n",
       "    <tr style=\"text-align: right;\">\n",
       "      <th></th>\n",
       "      <th>Chinese (traditional) Translation (Google Translate)</th>\n",
       "      <th>Positive</th>\n",
       "      <th>Negative</th>\n",
       "      <th>Anger</th>\n",
       "      <th>Anticipation</th>\n",
       "      <th>Disgust</th>\n",
       "      <th>Fear</th>\n",
       "      <th>Joy</th>\n",
       "      <th>Sadness</th>\n",
       "      <th>Surprise</th>\n",
       "      <th>Trust</th>\n",
       "    </tr>\n",
       "  </thead>\n",
       "  <tbody>\n",
       "    <tr>\n",
       "      <th>0</th>\n",
       "      <td>嚇了一跳</td>\n",
       "      <td>0</td>\n",
       "      <td>0</td>\n",
       "      <td>0</td>\n",
       "      <td>0</td>\n",
       "      <td>0</td>\n",
       "      <td>0</td>\n",
       "      <td>0</td>\n",
       "      <td>0</td>\n",
       "      <td>0</td>\n",
       "      <td>0</td>\n",
       "    </tr>\n",
       "    <tr>\n",
       "      <th>1</th>\n",
       "      <td>算盤</td>\n",
       "      <td>0</td>\n",
       "      <td>0</td>\n",
       "      <td>0</td>\n",
       "      <td>0</td>\n",
       "      <td>0</td>\n",
       "      <td>0</td>\n",
       "      <td>0</td>\n",
       "      <td>0</td>\n",
       "      <td>0</td>\n",
       "      <td>1</td>\n",
       "    </tr>\n",
       "    <tr>\n",
       "      <th>2</th>\n",
       "      <td>放棄</td>\n",
       "      <td>0</td>\n",
       "      <td>1</td>\n",
       "      <td>0</td>\n",
       "      <td>0</td>\n",
       "      <td>0</td>\n",
       "      <td>1</td>\n",
       "      <td>0</td>\n",
       "      <td>1</td>\n",
       "      <td>0</td>\n",
       "      <td>0</td>\n",
       "    </tr>\n",
       "    <tr>\n",
       "      <th>3</th>\n",
       "      <td>棄</td>\n",
       "      <td>0</td>\n",
       "      <td>1</td>\n",
       "      <td>1</td>\n",
       "      <td>0</td>\n",
       "      <td>0</td>\n",
       "      <td>1</td>\n",
       "      <td>0</td>\n",
       "      <td>1</td>\n",
       "      <td>0</td>\n",
       "      <td>0</td>\n",
       "    </tr>\n",
       "    <tr>\n",
       "      <th>4</th>\n",
       "      <td>放棄</td>\n",
       "      <td>0</td>\n",
       "      <td>1</td>\n",
       "      <td>1</td>\n",
       "      <td>0</td>\n",
       "      <td>0</td>\n",
       "      <td>1</td>\n",
       "      <td>0</td>\n",
       "      <td>1</td>\n",
       "      <td>1</td>\n",
       "      <td>0</td>\n",
       "    </tr>\n",
       "  </tbody>\n",
       "</table>\n",
       "</div>"
      ],
      "text/plain": [
       "  Chinese (traditional) Translation (Google Translate)  Positive  Negative  \\\n",
       "0                                               嚇了一跳           0         0   \n",
       "1                                                 算盤           0         0   \n",
       "2                                                 放棄           0         1   \n",
       "3                                                  棄           0         1   \n",
       "4                                                 放棄           0         1   \n",
       "\n",
       "   Anger  Anticipation  Disgust  Fear  Joy  Sadness  Surprise  Trust  \n",
       "0      0             0        0     0    0        0         0      0  \n",
       "1      0             0        0     0    0        0         0      1  \n",
       "2      0             0        0     1    0        1         0      0  \n",
       "3      1             0        0     1    0        1         0      0  \n",
       "4      1             0        0     1    0        1         1      0  "
      ]
     },
     "execution_count": 4,
     "metadata": {},
     "output_type": "execute_result"
    }
   ],
   "source": [
    "#指定是用繁體的字典\n",
    "chinese_df = lexion_df[['Chinese (traditional) Translation (Google Translate)', 'Positive', 'Negative', \n",
    "                 'Anger','Anticipation', 'Disgust', 'Fear', 'Joy', 'Sadness', 'Surprise', 'Trust']]\n",
    "chinese_df.head()"
   ]
  },
  {
   "cell_type": "code",
   "execution_count": 5,
   "metadata": {},
   "outputs": [
    {
     "name": "stdout",
     "output_type": "stream",
     "text": [
      "词语列表构建完成\n"
     ]
    }
   ],
   "source": [
    "Positive = []\n",
    "Negative = []\n",
    "Anger = []\n",
    "Anticipation = []\n",
    "Disgust = []\n",
    "Fear = []\n",
    "Joy = []\n",
    "Sadness = []\n",
    "Surprise = []\n",
    "Trust = []\n",
    "for idx, row in chinese_df.iterrows():\n",
    "    if row['Positive']==1:\n",
    "        Positive.append(row['Chinese (traditional) Translation (Google Translate)'])\n",
    "    if row['Negative']==1:\n",
    "        Negative.append(row['Chinese (traditional) Translation (Google Translate)'])\n",
    "    if row['Anger']==1:\n",
    "        Anger.append(row['Chinese (traditional) Translation (Google Translate)'])\n",
    "    if row['Anticipation']==1:\n",
    "        Anticipation.append(row['Chinese (traditional) Translation (Google Translate)'])\n",
    "    if row['Disgust']==1:\n",
    "        Disgust.append(row['Chinese (traditional) Translation (Google Translate)'])\n",
    "    if row['Fear']==1:\n",
    "        Fear.append(row['Chinese (traditional) Translation (Google Translate)'])\n",
    "    if row['Joy']==1:\n",
    "        Joy.append(row['Chinese (traditional) Translation (Google Translate)'])\n",
    "    if row['Sadness']==1:\n",
    "        Sadness.append(row['Chinese (traditional) Translation (Google Translate)'])\n",
    "    if row['Surprise']==1:\n",
    "        Surprise.append(row['Chinese (traditional) Translation (Google Translate)'])\n",
    "    if row['Trust']==1:\n",
    "        Trust.append(row['Chinese (traditional) Translation (Google Translate)'])\n",
    "        \n",
    "print('词语列表构建完成')"
   ]
  },
  {
   "cell_type": "code",
   "execution_count": 6,
   "metadata": {},
   "outputs": [],
   "source": [
    "def emotion_caculate(text):\n",
    "    positive = 0\n",
    "    negative = 0\n",
    "    anger = 0\n",
    "    anticipation = 0\n",
    "    disgust = 0\n",
    "    fear = 0\n",
    "    joy = 0\n",
    "    sadness = 0\n",
    "    surprise = 0\n",
    "    trust = 0\n",
    "    \n",
    "    wordlist = jieba.lcut(text)\n",
    "    wordset = set(wordlist)\n",
    "    wordfreq = []\n",
    "    for word in wordset:\n",
    "        freq = wordlist.count(word)\n",
    "        if word in Positive:\n",
    "            positive+=freq\n",
    "        if word in Negative:\n",
    "            negative+=freq\n",
    "        if word in Anger:\n",
    "            anger+=freq  \n",
    "        if word in Anticipation:\n",
    "            anticipation+=freq\n",
    "        if word in Disgust:\n",
    "            disgust+=freq\n",
    "        if word in Fear:\n",
    "            fear+=freq\n",
    "        if word in Joy:\n",
    "            joy+=freq\n",
    "        if word in Sadness:\n",
    "            sadness+=freq\n",
    "        if word in Surprise:\n",
    "            surprise+=freq\n",
    "        if word in Trust:\n",
    "            trust+=freq\n",
    "            \n",
    "    emotion_info = {\n",
    "        'positive': positive,\n",
    "        'negative': negative,\n",
    "        'anger': anger,\n",
    "        'anticipation': anticipation,\n",
    "        'disgust': disgust,\n",
    "        'fear':fear,\n",
    "        'joy':joy,\n",
    "        'sadness':sadness,\n",
    "        'surprise':surprise,\n",
    "        'trust':trust,\n",
    "        'length':len(wordlist)\n",
    "    }\n",
    "    indexs = ['length', 'positive', 'negative', 'anger', 'anticipation','disgust','fear','joy','sadness','surprise','trust']\n",
    "    return pd.Series(emotion_info, index=indexs)"
   ]
  },
  {
   "cell_type": "code",
   "execution_count": null,
   "metadata": {},
   "outputs": [],
   "source": [
    "emotions = emotion_caculate(text='这个国家再对这些制造假冒伪劣食品药品的人手软的话，那后果真的会相当糟糕。坐牢？从快判个死刑')\n",
    "emotions = emotion_caculate(text='唯有得到之後，你才會深刻體會：得不到的才是最好的。')\n",
    "print(emotions)"
   ]
  },
  {
   "cell_type": "markdown",
   "metadata": {},
   "source": [
    "# 長榮台灣留言"
   ]
  },
  {
   "cell_type": "code",
   "execution_count": 89,
   "metadata": {},
   "outputs": [
    {
     "name": "stdout",
     "output_type": "stream",
     "text": [
      "length          11911\n",
      "positive          513\n",
      "negative          757\n",
      "anger             431\n",
      "anticipation      268\n",
      "disgust           361\n",
      "fear              569\n",
      "joy               135\n",
      "sadness           541\n",
      "surprise          219\n",
      "trust             380\n",
      "dtype: int64\n",
      "used time: 1.3283531665802002\n"
     ]
    }
   ],
   "source": [
    "start = time.time()\n",
    "\n",
    "with open('長榮台灣留言to繁體.txt', 'r') as f:\n",
    "    texts = f.read()\n",
    "    emotions = emotion_caculate(texts)\n",
    "    print(emotions)\n",
    "\n",
    "end = time.time()\n",
    "print(f'used time: {end - start}')"
   ]
  },
  {
   "cell_type": "code",
   "execution_count": 90,
   "metadata": {},
   "outputs": [
    {
     "name": "stdout",
     "output_type": "stream",
     "text": [
      "4174\n"
     ]
    }
   ],
   "source": [
    "all_emotion = emotions['positive'] + emotions['negative'] + \\\n",
    "              emotions['anger'] + emotions['anticipation'] + \\\n",
    "              emotions['disgust'] + emotions['fear'] + \\\n",
    "              emotions['joy'] + emotions['sadness'] + \\\n",
    "              emotions['surprise'] + emotions['trust']\n",
    "print(all_emotion)"
   ]
  },
  {
   "cell_type": "code",
   "execution_count": 91,
   "metadata": {},
   "outputs": [
    {
     "data": {
      "text/plain": [
       "(12.290368950646862,\n",
       " 18.13608049832295,\n",
       " 10.325826545280306,\n",
       " 8.648778150455199,\n",
       " 6.420699568758984,\n",
       " 13.632007666506949,\n",
       " 12.961188308576904,\n",
       " 3.234307618591279,\n",
       " 5.246765692381409,\n",
       " 9.103977000479157)"
      ]
     },
     "execution_count": 91,
     "metadata": {},
     "output_type": "execute_result"
    }
   ],
   "source": [
    "pos = (emotions['positive']/all_emotion)*100\n",
    "neg = (emotions['negative']/all_emotion)*100\n",
    "ang = (emotions['anger']/all_emotion)*100\n",
    "dis = (emotions['disgust']/all_emotion)*100\n",
    "ant = (emotions['anticipation']/all_emotion)*100\n",
    "fear = (emotions['fear']/all_emotion)*100\n",
    "sad = (emotions['sadness']/all_emotion)*100\n",
    "joy = (emotions['joy']/all_emotion)*100\n",
    "surp = (emotions['surprise']/all_emotion)*100\n",
    "trust = (emotions['trust']/all_emotion)*100\n",
    "\n",
    "pos,neg,ang,dis,ant,fear,sad,joy,surp,trust"
   ]
  },
  {
   "cell_type": "code",
   "execution_count": 92,
   "metadata": {},
   "outputs": [
    {
     "data": {
      "image/png": "[encoded data removed]",
      "text/plain": [
       "<Figure size 576x396 with 1 Axes>"
      ]
     },
     "metadata": {},
     "output_type": "display_data"
    }
   ],
   "source": [
    "plt.style.use('ggplot')\n",
    "\n",
    "labels = ['pos','neg','ang','dis','ant','fear','sad','joy','surp','trust']\n",
    "scores = [pos,neg,ang,dis,ant,fear,sad,joy,surp,trust]\n",
    "\n",
    "fig1, ax1 = plt.subplots()\n",
    "ax1.pie(scores, labels=labels, autopct='%1.1f%%',\n",
    "        shadow=True, startangle=90)\n",
    "ax1.axis('equal')  # Equal aspect ratio ensures that pie is drawn as a circle.\n",
    "#plt.show()\n",
    "\n",
    "plt.savefig('長榮案件之台灣媒體留言情緒分析_separate.png')"
   ]
  },
  {
   "cell_type": "code",
   "execution_count": 93,
   "metadata": {},
   "outputs": [
    {
     "data": {
      "text/plain": [
       "100.00000000000001"
      ]
     },
     "execution_count": 93,
     "metadata": {},
     "output_type": "execute_result"
    }
   ],
   "source": [
    "pos+neg+ang+dis+ant+fear+sad+joy+surp+trust"
   ]
  },
  {
   "cell_type": "code",
   "execution_count": 94,
   "metadata": {},
   "outputs": [
    {
     "name": "stdout",
     "output_type": "stream",
     "text": [
      "neg_score: 63.703881169142306\n",
      "pos_score: 31.049353138476278\n"
     ]
    }
   ],
   "source": [
    "neg_score = neg + ang + dis + fear + sad\n",
    "pos_score = pos + ant + joy + trust\n",
    "print(f'neg_score: {neg_score}')\n",
    "print(f'pos_score: {pos_score}')"
   ]
  },
  {
   "cell_type": "code",
   "execution_count": 95,
   "metadata": {},
   "outputs": [
    {
     "data": {
      "image/png": "[encoded data removed]",
      "text/plain": [
       "<Figure size 576x396 with 1 Axes>"
      ]
     },
     "metadata": {},
     "output_type": "display_data"
    }
   ],
   "source": [
    "plt.style.use('ggplot')\n",
    "\n",
    "labels = ['neg_score', 'pos_score', 'surp']\n",
    "scores = [neg_score, pos_score, surp]\n",
    "explode = (0.1, 0, 0)  \n",
    "\n",
    "fig1, ax1 = plt.subplots()\n",
    "ax1.pie(scores, explode=explode, labels=labels, autopct='%1.1f%%',\n",
    "        shadow=True, startangle=90)\n",
    "ax1.axis('equal')  # Equal aspect ratio ensures that pie is drawn as a circle.\n",
    "#plt.show()\n",
    "\n",
    "plt.savefig('長榮案件之台灣媒體留言情緒分析_total.png')"
   ]
  },
  {
   "cell_type": "markdown",
   "metadata": {},
   "source": [
    "# 長榮大馬留言"
   ]
  },
  {
   "cell_type": "code",
   "execution_count": 96,
   "metadata": {},
   "outputs": [
    {
     "name": "stdout",
     "output_type": "stream",
     "text": [
      "length          45404\n",
      "positive         1787\n",
      "negative         1783\n",
      "anger             971\n",
      "anticipation      919\n",
      "disgust           761\n",
      "fear             1254\n",
      "joy               557\n",
      "sadness          1083\n",
      "surprise          473\n",
      "trust            1223\n",
      "dtype: int64\n",
      "used time: 7.892518997192383\n"
     ]
    }
   ],
   "source": [
    "start = time.time()\n",
    "\n",
    "with open('長榮大馬留言to繁體.txt', 'r') as f:\n",
    "    texts = f.read()\n",
    "    emotions = emotion_caculate(texts)\n",
    "    print(emotions)\n",
    "\n",
    "end = time.time()\n",
    "print(f'used time: {end - start}')"
   ]
  },
  {
   "cell_type": "code",
   "execution_count": 97,
   "metadata": {},
   "outputs": [
    {
     "name": "stdout",
     "output_type": "stream",
     "text": [
      "10811\n"
     ]
    }
   ],
   "source": [
    "all_emotion = emotions['positive'] + emotions['negative'] + \\\n",
    "              emotions['anger'] + emotions['anticipation'] + \\\n",
    "              emotions['disgust'] + emotions['fear'] + \\\n",
    "              emotions['joy'] + emotions['sadness'] + \\\n",
    "              emotions['surprise'] + emotions['trust']\n",
    "print(all_emotion)"
   ]
  },
  {
   "cell_type": "code",
   "execution_count": 98,
   "metadata": {},
   "outputs": [
    {
     "data": {
      "text/plain": [
       "(16.529460734437148,\n",
       " 16.492461381925814,\n",
       " 8.981592822125613,\n",
       " 7.039126815280733,\n",
       " 8.500601239478309,\n",
       " 11.599297012302284,\n",
       " 10.017574692442881,\n",
       " 5.1521598372028485,\n",
       " 4.375173434464897,\n",
       " 11.31255203033947)"
      ]
     },
     "execution_count": 98,
     "metadata": {},
     "output_type": "execute_result"
    }
   ],
   "source": [
    "pos = (emotions['positive']/all_emotion)*100\n",
    "neg = (emotions['negative']/all_emotion)*100\n",
    "ang = (emotions['anger']/all_emotion)*100\n",
    "dis = (emotions['disgust']/all_emotion)*100\n",
    "ant = (emotions['anticipation']/all_emotion)*100\n",
    "fear = (emotions['fear']/all_emotion)*100\n",
    "sad = (emotions['sadness']/all_emotion)*100\n",
    "joy = (emotions['joy']/all_emotion)*100\n",
    "surp = (emotions['surprise']/all_emotion)*100\n",
    "trust = (emotions['trust']/all_emotion)*100\n",
    "\n",
    "pos,neg,ang,dis,ant,fear,sad,joy,surp,trust"
   ]
  },
  {
   "cell_type": "code",
   "execution_count": 99,
   "metadata": {},
   "outputs": [
    {
     "data": {
      "image/png": "[encoded data removed]",
      "text/plain": [
       "<Figure size 576x396 with 1 Axes>"
      ]
     },
     "metadata": {},
     "output_type": "display_data"
    }
   ],
   "source": [
    "plt.style.use('bmh')\n",
    "\n",
    "labels = ['pos','neg','ang','dis','ant','fear','sad','joy','surp','trust']\n",
    "scores = [pos,neg,ang,dis,ant,fear,sad,joy,surp,trust]\n",
    "\n",
    "fig1, ax1 = plt.subplots()\n",
    "ax1.pie(scores, labels=labels, autopct='%1.1f%%',\n",
    "        shadow=True, startangle=90)\n",
    "ax1.axis('equal')  # Equal aspect ratio ensures that pie is drawn as a circle.\n",
    "\n",
    "#plt.show()\n",
    "\n",
    "plt.savefig('長榮案件之大馬媒體留言情緒分析_separate.png')"
   ]
  },
  {
   "cell_type": "code",
   "execution_count": 100,
   "metadata": {},
   "outputs": [
    {
     "data": {
      "text/plain": [
       "99.99999999999999"
      ]
     },
     "execution_count": 100,
     "metadata": {},
     "output_type": "execute_result"
    }
   ],
   "source": [
    "pos+neg+ang+dis+ant+fear+sad+joy+surp+trust"
   ]
  },
  {
   "cell_type": "code",
   "execution_count": 101,
   "metadata": {},
   "outputs": [
    {
     "name": "stdout",
     "output_type": "stream",
     "text": [
      "neg_score: 54.130052724077316\n",
      "pos_score: 41.49477384145778\n"
     ]
    }
   ],
   "source": [
    "neg_score = neg + ang + dis + fear + sad\n",
    "pos_score = pos + ant + joy + trust\n",
    "print(f'neg_score: {neg_score}')\n",
    "print(f'pos_score: {pos_score}')"
   ]
  },
  {
   "cell_type": "code",
   "execution_count": 102,
   "metadata": {},
   "outputs": [
    {
     "data": {
      "image/png": "[encoded data removed]",
      "text/plain": [
       "<Figure size 576x396 with 1 Axes>"
      ]
     },
     "metadata": {},
     "output_type": "display_data"
    }
   ],
   "source": [
    "plt.style.use('bmh')\n",
    "\n",
    "labels = ['neg_score', 'pos_score', 'surp']\n",
    "scores = [neg_score, pos_score, surp]\n",
    "explode = (0.1, 0, 0)  \n",
    "\n",
    "fig1, ax1 = plt.subplots()\n",
    "ax1.pie(scores, explode = explode, labels=labels, autopct='%1.1f%%',\n",
    "        shadow=True, startangle=90)\n",
    "ax1.axis('equal')  # Equal aspect ratio ensures that pie is drawn as a circle.\n",
    "#plt.show()\n",
    "\n",
    "plt.savefig('長榮案件之大馬媒體留言情緒分析_total.png')"
   ]
  },
  {
   "cell_type": "code",
   "execution_count": null,
   "metadata": {},
   "outputs": [],
   "source": []
  },
  {
   "cell_type": "code",
   "execution_count": null,
   "metadata": {},
   "outputs": [],
   "source": []
  }
 ],
 "metadata": {
  "kernelspec": {
   "display_name": "Python 3",
   "language": "python",
   "name": "python3"
  },
  "language_info": {
   "codemirror_mode": {
    "name": "ipython",
    "version": 3
   },
   "file_extension": ".py",
   "mimetype": "text/x-python",
   "name": "python",
   "nbconvert_exporter": "python",
   "pygments_lexer": "ipython3",
   "version": "3.8.5"
  }
 },
 "nbformat": 4,
 "nbformat_minor": 4
}
