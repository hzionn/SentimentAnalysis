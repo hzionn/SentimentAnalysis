{
 "cells": [
  {
   "cell_type": "markdown",
   "metadata": {},
   "source": [
    "# 前置作業\n",
    "\n",
    "[Dcard API](https://blog.jiatool.com/posts/dcard_api_v2/)\n",
    "\n",
    "[NRC實作](https://zhuanlan.zhihu.com/p/101354375)\n",
    "\n",
    "[NRC官網](https://www.saifmohammad.com/WebPages/NRC-Emotion-Lexicon.htm)\n",
    "\n",
    "[NRC-Persian-Lexicon-GIT](https://github.com/mhbashari/NRC-Persian-Lexicon)\n",
    "\n",
    "[cnsenti中文情绪情感分析库](https://zhuanlan.zhihu.com/p/117673231)"
   ]
  },
  {
   "cell_type": "code",
   "execution_count": 1,
   "metadata": {},
   "outputs": [],
   "source": [
    "import pandas as pd\n",
    "import time, jieba"
   ]
  },
  {
   "cell_type": "code",
   "execution_count": 2,
   "metadata": {},
   "outputs": [],
   "source": [
    "import matplotlib.pyplot as plt\n",
    "import seaborn as sns"
   ]
  },
  {
   "cell_type": "code",
   "execution_count": 3,
   "metadata": {},
   "outputs": [
    {
     "data": {
      "text/html": [
       "<div>\n",
       "<style scoped>\n",
       "    .dataframe tbody tr th:only-of-type {\n",
       "        vertical-align: middle;\n",
       "    }\n",
       "\n",
       "    .dataframe tbody tr th {\n",
       "        vertical-align: top;\n",
       "    }\n",
       "\n",
       "    .dataframe thead th {\n",
       "        text-align: right;\n",
       "    }\n",
       "</style>\n",
       "<table border=\"1\" class=\"dataframe\">\n",
       "  <thead>\n",
       "    <tr style=\"text-align: right;\">\n",
       "      <th></th>\n",
       "      <th>English Word</th>\n",
       "      <th>Arabic Translation (Google Translate)</th>\n",
       "      <th>Basque Translation (Google Translate)</th>\n",
       "      <th>Bengali Translation (Google Translate)</th>\n",
       "      <th>Catalan Translation (Google Translate)</th>\n",
       "      <th>Chinese (simplified) Translation (Google Translate)</th>\n",
       "      <th>Chinese (traditional) Translation (Google Translate)</th>\n",
       "      <th>Danish Translation (Google Translate)</th>\n",
       "      <th>Dutch Translation (Google Translate)</th>\n",
       "      <th>Esperanto Translation (Google Translate)</th>\n",
       "      <th>...</th>\n",
       "      <th>Positive</th>\n",
       "      <th>Negative</th>\n",
       "      <th>Anger</th>\n",
       "      <th>Anticipation</th>\n",
       "      <th>Disgust</th>\n",
       "      <th>Fear</th>\n",
       "      <th>Joy</th>\n",
       "      <th>Sadness</th>\n",
       "      <th>Surprise</th>\n",
       "      <th>Trust</th>\n",
       "    </tr>\n",
       "  </thead>\n",
       "  <tbody>\n",
       "    <tr>\n",
       "      <th>0</th>\n",
       "      <td>aback</td>\n",
       "      <td>الى الوراء</td>\n",
       "      <td>aback</td>\n",
       "      <td>পশ্চাতে</td>\n",
       "      <td>darrere</td>\n",
       "      <td>吓了一跳</td>\n",
       "      <td>嚇了一跳</td>\n",
       "      <td>overrasket</td>\n",
       "      <td>verrast</td>\n",
       "      <td>surprizita</td>\n",
       "      <td>...</td>\n",
       "      <td>0</td>\n",
       "      <td>0</td>\n",
       "      <td>0</td>\n",
       "      <td>0</td>\n",
       "      <td>0</td>\n",
       "      <td>0</td>\n",
       "      <td>0</td>\n",
       "      <td>0</td>\n",
       "      <td>0</td>\n",
       "      <td>0</td>\n",
       "    </tr>\n",
       "    <tr>\n",
       "      <th>1</th>\n",
       "      <td>abacus</td>\n",
       "      <td>طبلية تاج</td>\n",
       "      <td>abako</td>\n",
       "      <td>গণনা-যন্ত্রবিশেষ</td>\n",
       "      <td>àbac</td>\n",
       "      <td>算盘</td>\n",
       "      <td>算盤</td>\n",
       "      <td>abacus</td>\n",
       "      <td>abacus</td>\n",
       "      <td>abako</td>\n",
       "      <td>...</td>\n",
       "      <td>0</td>\n",
       "      <td>0</td>\n",
       "      <td>0</td>\n",
       "      <td>0</td>\n",
       "      <td>0</td>\n",
       "      <td>0</td>\n",
       "      <td>0</td>\n",
       "      <td>0</td>\n",
       "      <td>0</td>\n",
       "      <td>1</td>\n",
       "    </tr>\n",
       "    <tr>\n",
       "      <th>2</th>\n",
       "      <td>abandon</td>\n",
       "      <td>تخلى</td>\n",
       "      <td>alde batera utzi</td>\n",
       "      <td>বর্জিত করা</td>\n",
       "      <td>abandonar</td>\n",
       "      <td>放弃</td>\n",
       "      <td>放棄</td>\n",
       "      <td>opgive</td>\n",
       "      <td>verlaten</td>\n",
       "      <td>forlasos</td>\n",
       "      <td>...</td>\n",
       "      <td>0</td>\n",
       "      <td>1</td>\n",
       "      <td>0</td>\n",
       "      <td>0</td>\n",
       "      <td>0</td>\n",
       "      <td>1</td>\n",
       "      <td>0</td>\n",
       "      <td>1</td>\n",
       "      <td>0</td>\n",
       "      <td>0</td>\n",
       "    </tr>\n",
       "    <tr>\n",
       "      <th>3</th>\n",
       "      <td>abandoned</td>\n",
       "      <td>مهجور</td>\n",
       "      <td>abandonatu</td>\n",
       "      <td>পরিত্যক্ত</td>\n",
       "      <td>abandonat</td>\n",
       "      <td>弃</td>\n",
       "      <td>棄</td>\n",
       "      <td>forladte</td>\n",
       "      <td>verlaten</td>\n",
       "      <td>forlasita</td>\n",
       "      <td>...</td>\n",
       "      <td>0</td>\n",
       "      <td>1</td>\n",
       "      <td>1</td>\n",
       "      <td>0</td>\n",
       "      <td>0</td>\n",
       "      <td>1</td>\n",
       "      <td>0</td>\n",
       "      <td>1</td>\n",
       "      <td>0</td>\n",
       "      <td>0</td>\n",
       "    </tr>\n",
       "    <tr>\n",
       "      <th>4</th>\n",
       "      <td>abandonment</td>\n",
       "      <td>هجر</td>\n",
       "      <td>abandono</td>\n",
       "      <td>বিসর্জন</td>\n",
       "      <td>abandonament</td>\n",
       "      <td>放弃</td>\n",
       "      <td>放棄</td>\n",
       "      <td>opgivelse</td>\n",
       "      <td>verlatenheid</td>\n",
       "      <td>forlasas</td>\n",
       "      <td>...</td>\n",
       "      <td>0</td>\n",
       "      <td>1</td>\n",
       "      <td>1</td>\n",
       "      <td>0</td>\n",
       "      <td>0</td>\n",
       "      <td>1</td>\n",
       "      <td>0</td>\n",
       "      <td>1</td>\n",
       "      <td>1</td>\n",
       "      <td>0</td>\n",
       "    </tr>\n",
       "  </tbody>\n",
       "</table>\n",
       "<p>5 rows × 51 columns</p>\n",
       "</div>"
      ],
      "text/plain": [
       "  English Word Arabic Translation (Google Translate)  \\\n",
       "0        aback                            الى الوراء   \n",
       "1       abacus                             طبلية تاج   \n",
       "2      abandon                                  تخلى   \n",
       "3    abandoned                                 مهجور   \n",
       "4  abandonment                                   هجر   \n",
       "\n",
       "  Basque Translation (Google Translate)  \\\n",
       "0                                 aback   \n",
       "1                                 abako   \n",
       "2                      alde batera utzi   \n",
       "3                            abandonatu   \n",
       "4                              abandono   \n",
       "\n",
       "  Bengali Translation (Google Translate)  \\\n",
       "0                                পশ্চাতে   \n",
       "1                       গণনা-যন্ত্রবিশেষ   \n",
       "2                             বর্জিত করা   \n",
       "3                              পরিত্যক্ত   \n",
       "4                                বিসর্জন   \n",
       "\n",
       "  Catalan Translation (Google Translate)  \\\n",
       "0                                darrere   \n",
       "1                                   àbac   \n",
       "2                              abandonar   \n",
       "3                              abandonat   \n",
       "4                           abandonament   \n",
       "\n",
       "  Chinese (simplified) Translation (Google Translate)  \\\n",
       "0                                               吓了一跳    \n",
       "1                                                 算盘    \n",
       "2                                                 放弃    \n",
       "3                                                  弃    \n",
       "4                                                 放弃    \n",
       "\n",
       "  Chinese (traditional) Translation (Google Translate)  \\\n",
       "0                                               嚇了一跳     \n",
       "1                                                 算盤     \n",
       "2                                                 放棄     \n",
       "3                                                  棄     \n",
       "4                                                 放棄     \n",
       "\n",
       "  Danish Translation (Google Translate) Dutch Translation (Google Translate)  \\\n",
       "0                            overrasket                              verrast   \n",
       "1                                abacus                               abacus   \n",
       "2                                opgive                             verlaten   \n",
       "3                              forladte                             verlaten   \n",
       "4                             opgivelse                         verlatenheid   \n",
       "\n",
       "  Esperanto Translation (Google Translate)  ... Positive Negative Anger  \\\n",
       "0                               surprizita  ...        0        0     0   \n",
       "1                                    abako  ...        0        0     0   \n",
       "2                                 forlasos  ...        0        1     0   \n",
       "3                                forlasita  ...        0        1     1   \n",
       "4                                 forlasas  ...        0        1     1   \n",
       "\n",
       "  Anticipation Disgust Fear Joy Sadness Surprise Trust  \n",
       "0            0       0    0   0       0        0     0  \n",
       "1            0       0    0   0       0        0     1  \n",
       "2            0       0    1   0       1        0     0  \n",
       "3            0       0    1   0       1        0     0  \n",
       "4            0       0    1   0       1        1     0  \n",
       "\n",
       "[5 rows x 51 columns]"
      ]
     },
     "execution_count": 3,
     "metadata": {},
     "output_type": "execute_result"
    }
   ],
   "source": [
    "lexion_df = pd.read_excel('NRC-Emotion-Lexicon-v0.92-InManyLanguages-web.xlsx')\n",
    "lexion_df.head()"
   ]
  },
  {
   "cell_type": "code",
   "execution_count": 4,
   "metadata": {},
   "outputs": [
    {
     "name": "stdout",
     "output_type": "stream",
     "text": [
      "Index(['English Word', 'Arabic Translation (Google Translate)',\n",
      "       'Basque Translation (Google Translate)',\n",
      "       'Bengali Translation (Google Translate)',\n",
      "       'Catalan Translation (Google Translate)',\n",
      "       'Chinese (simplified) Translation (Google Translate)',\n",
      "       'Chinese (traditional) Translation (Google Translate)',\n",
      "       'Danish Translation (Google Translate)',\n",
      "       'Dutch Translation (Google Translate)',\n",
      "       'Esperanto Translation (Google Translate)',\n",
      "       'Finnish Translation (Google Translate)',\n",
      "       'French Translation (Google Translate)',\n",
      "       'German Translation (Google Translate)',\n",
      "       'Greek Translation (Google Translate)',\n",
      "       'Gujarati Translation (Google Translate)',\n",
      "       'Hebrew Translation (Google Translate)',\n",
      "       'Hindi Translation (Google Translate)',\n",
      "       'Irish Translation (Google Translate)',\n",
      "       'Italian Translation (Google Translate)',\n",
      "       'Japanese Translation (Google Translate)',\n",
      "       'Latin Translation (Google Translate)',\n",
      "       'Marathi Translation (Google Translate)',\n",
      "       'Persian Translation (Google Translate)',\n",
      "       'Portuguese Translation (Google Translate)',\n",
      "       'Romanian Translation (Google Translate)',\n",
      "       'Russian Translation (Google Translate)',\n",
      "       'Somali Translation (Google Translate)',\n",
      "       'Spanish Translation (Google Translate)',\n",
      "       'Sudanese Translation (Google Translate)',\n",
      "       'Swahili Translation (Google Translate)',\n",
      "       'Swedish Translation (Google Translate)',\n",
      "       'Tamil Translation (Google Translate)',\n",
      "       'Telugu Translation (Google Translate)',\n",
      "       'Thai Translation (Google Translate)',\n",
      "       'Turkish Translation (Google Translate)',\n",
      "       'Ukranian Translation (Google Translate)',\n",
      "       'Urdu Translation (Google Translate)',\n",
      "       'Vietnamese Translation (Google Translate)',\n",
      "       'Welsh Translation (Google Translate)',\n",
      "       'Yiddish Translation (Google Translate)',\n",
      "       'Zulu Translation (Google Translate)', 'Positive', 'Negative', 'Anger',\n",
      "       'Anticipation', 'Disgust', 'Fear', 'Joy', 'Sadness', 'Surprise',\n",
      "       'Trust'],\n",
      "      dtype='object')\n"
     ]
    }
   ],
   "source": [
    "print(lexion_df.columns)"
   ]
  },
  {
   "cell_type": "code",
   "execution_count": 5,
   "metadata": {},
   "outputs": [],
   "source": [
    "#指定是用繁體的字典\n",
    "chinese_df = lexion_df[['Chinese (traditional) Translation (Google Translate)', 'Positive', 'Negative', \n",
    "                 'Anger','Anticipation', 'Disgust', 'Fear', 'Joy', 'Sadness', 'Surprise', 'Trust']]\n",
    "#chinese_df.head()"
   ]
  },
  {
   "cell_type": "code",
   "execution_count": 6,
   "metadata": {},
   "outputs": [
    {
     "name": "stdout",
     "output_type": "stream",
     "text": [
      "词语列表构建完成\n"
     ]
    }
   ],
   "source": [
    "Positive = []\n",
    "Negative = []\n",
    "Anger = []\n",
    "Anticipation = []\n",
    "Disgust = []\n",
    "Fear = []\n",
    "Joy = []\n",
    "Sadness = []\n",
    "Surprise = []\n",
    "Trust = []\n",
    "for idx, row in chinese_df.iterrows():\n",
    "    if row['Positive']==1:\n",
    "        Positive.append(row['Chinese (traditional) Translation (Google Translate)'])\n",
    "    if row['Negative']==1:\n",
    "        Negative.append(row['Chinese (traditional) Translation (Google Translate)'])\n",
    "    if row['Anger']==1:\n",
    "        Anger.append(row['Chinese (traditional) Translation (Google Translate)'])\n",
    "    if row['Anticipation']==1:\n",
    "        Anticipation.append(row['Chinese (traditional) Translation (Google Translate)'])\n",
    "    if row['Disgust']==1:\n",
    "        Disgust.append(row['Chinese (traditional) Translation (Google Translate)'])\n",
    "    if row['Fear']==1:\n",
    "        Fear.append(row['Chinese (traditional) Translation (Google Translate)'])\n",
    "    if row['Joy']==1:\n",
    "        Joy.append(row['Chinese (traditional) Translation (Google Translate)'])\n",
    "    if row['Sadness']==1:\n",
    "        Sadness.append(row['Chinese (traditional) Translation (Google Translate)'])\n",
    "    if row['Surprise']==1:\n",
    "        Surprise.append(row['Chinese (traditional) Translation (Google Translate)'])\n",
    "    if row['Trust']==1:\n",
    "        Trust.append(row['Chinese (traditional) Translation (Google Translate)'])\n",
    "        \n",
    "print('词语列表构建完成')"
   ]
  },
  {
   "cell_type": "code",
   "execution_count": 7,
   "metadata": {},
   "outputs": [
    {
     "name": "stderr",
     "output_type": "stream",
     "text": [
      "Building prefix dict from the default dictionary ...\n",
      "Loading model from cache /var/folders/cl/mnp8mwzx3hg265f0p2tv79d00000gn/T/jieba.cache\n"
     ]
    },
    {
     "name": "stdout",
     "output_type": "stream",
     "text": [
      "1609606643.805094\n"
     ]
    },
    {
     "name": "stderr",
     "output_type": "stream",
     "text": [
      "Loading model cost 0.578 seconds.\n",
      "Prefix dict has been built successfully.\n"
     ]
    },
    {
     "name": "stdout",
     "output_type": "stream",
     "text": [
      "1609606644.3931708\n"
     ]
    }
   ],
   "source": [
    "def emotion_caculate(text):\n",
    "    positive = 0\n",
    "    negative = 0\n",
    "    anger = 0\n",
    "    anticipation = 0\n",
    "    disgust = 0\n",
    "    fear = 0\n",
    "    joy = 0\n",
    "    sadness = 0\n",
    "    surprise = 0\n",
    "    trust = 0\n",
    "    \n",
    "    wordlist = jieba.lcut(text)\n",
    "    wordset = set(wordlist)\n",
    "    wordfreq = []\n",
    "    for word in wordset:\n",
    "        freq = wordlist.count(word)\n",
    "        if word in Positive:\n",
    "            positive+=freq\n",
    "        if word in Negative:\n",
    "            negative+=freq\n",
    "        if word in Anger:\n",
    "            anger+=freq  \n",
    "        if word in Anticipation:\n",
    "            anticipation+=freq\n",
    "        if word in Disgust:\n",
    "            disgust+=freq\n",
    "        if word in Fear:\n",
    "            fear+=freq\n",
    "        if word in Joy:\n",
    "            joy+=freq\n",
    "        if word in Sadness:\n",
    "            sadness+=freq\n",
    "        if word in Surprise:\n",
    "            surprise+=freq\n",
    "        if word in Trust:\n",
    "            trust+=freq\n",
    "            \n",
    "    emotion_info = {\n",
    "        'positive': positive,\n",
    "        'negative': negative,\n",
    "        'anger': anger,\n",
    "        'anticipation': anticipation,\n",
    "        'disgust': disgust,\n",
    "        'fear':fear,\n",
    "        'joy':joy,\n",
    "        'sadness':sadness,\n",
    "        'surprise':surprise,\n",
    "        'trust':trust,\n",
    "        'length':len(wordlist)\n",
    "    }\n",
    "    indexs = ['length', 'positive', 'negative', 'anger', 'anticipation','disgust','fear','joy','sadness','surprise','trust']\n",
    "    return pd.Series(emotion_info, index=indexs)\n",
    "        \n",
    "start = time.time()\n",
    "print(start)\n",
    "emotion_caculate(text='这个国家再对这些制造假冒伪劣食品药品的人手软的话，那后果真的会相当糟糕。坐牢？从快判个死刑')\n",
    "end = time.time()\n",
    "print(end)"
   ]
  },
  {
   "cell_type": "markdown",
   "metadata": {},
   "source": [
    "# 測試"
   ]
  },
  {
   "cell_type": "code",
   "execution_count": null,
   "metadata": {},
   "outputs": [],
   "source": [
    "texts = ''"
   ]
  },
  {
   "cell_type": "code",
   "execution_count": 8,
   "metadata": {},
   "outputs": [
    {
     "name": "stdout",
     "output_type": "stream",
     "text": [
      "length          2554\n",
      "positive         120\n",
      "negative         184\n",
      "anger             98\n",
      "anticipation      62\n",
      "disgust          102\n",
      "fear             135\n",
      "joy               30\n",
      "sadness          137\n",
      "surprise          57\n",
      "trust             78\n",
      "dtype: int64\n",
      "used time: 0.2976100444793701\n"
     ]
    }
   ],
   "source": [
    "start = time.time()\n",
    "\n",
    "emotions = emotion_caculate(texts)\n",
    "print(emotions)\n",
    "\n",
    "end = time.time()\n",
    "print(f'used time: {end - start}')"
   ]
  },
  {
   "cell_type": "code",
   "execution_count": 9,
   "metadata": {},
   "outputs": [
    {
     "name": "stdout",
     "output_type": "stream",
     "text": [
      "1003\n"
     ]
    }
   ],
   "source": [
    "all_emotion = emotions['positive'] + emotions['negative'] + \\\n",
    "              emotions['anger'] + emotions['anticipation'] + \\\n",
    "              emotions['disgust'] + emotions['fear'] + \\\n",
    "              emotions['joy'] + emotions['sadness'] + \\\n",
    "              emotions['surprise'] + emotions['trust']\n",
    "print(all_emotion)"
   ]
  },
  {
   "cell_type": "code",
   "execution_count": 10,
   "metadata": {},
   "outputs": [
    {
     "data": {
      "text/plain": [
       "(11.964107676969093,\n",
       " 18.344965104685944,\n",
       " 9.770687936191425,\n",
       " 10.16949152542373,\n",
       " 6.181455633100698,\n",
       " 13.459621136590231,\n",
       " 13.65902293120638,\n",
       " 2.991026919242273,\n",
       " 5.682951146560319,\n",
       " 7.7766699900299106)"
      ]
     },
     "execution_count": 10,
     "metadata": {},
     "output_type": "execute_result"
    }
   ],
   "source": [
    "pos = (emotions['positive']/all_emotion)*100\n",
    "neg = (emotions['negative']/all_emotion)*100\n",
    "ang = (emotions['anger']/all_emotion)*100\n",
    "dis = (emotions['disgust']/all_emotion)*100\n",
    "ant = (emotions['anticipation']/all_emotion)*100\n",
    "fear = (emotions['fear']/all_emotion)*100\n",
    "sad = (emotions['sadness']/all_emotion)*100\n",
    "joy = (emotions['joy']/all_emotion)*100\n",
    "surp = (emotions['surprise']/all_emotion)*100\n",
    "trust = (emotions['trust']/all_emotion)*100\n",
    "\n",
    "pos,neg,ang,dis,ant,fear,sad,joy,surp,trust"
   ]
  },
  {
   "cell_type": "code",
   "execution_count": 11,
   "metadata": {},
   "outputs": [
    {
     "data": {
      "text/plain": [
       "100.0"
      ]
     },
     "execution_count": 11,
     "metadata": {},
     "output_type": "execute_result"
    }
   ],
   "source": [
    "pos+neg+ang+dis+ant+fear+sad+joy+surp+trust"
   ]
  },
  {
   "cell_type": "code",
   "execution_count": 12,
   "metadata": {},
   "outputs": [
    {
     "name": "stdout",
     "output_type": "stream",
     "text": [
      "neg_score: 65.40378863409771\n",
      "pos_score: 28.91326021934197\n"
     ]
    }
   ],
   "source": [
    "neg_score = neg + ang + dis + fear + sad\n",
    "pos_score = pos + ant + joy + trust\n",
    "print(f'neg_score: {neg_score}')\n",
    "print(f'pos_score: {pos_score}')"
   ]
  },
  {
   "cell_type": "code",
   "execution_count": null,
   "metadata": {},
   "outputs": [],
   "source": []
  }
 ],
 "metadata": {
  "kernelspec": {
   "display_name": "Python 3",
   "language": "python",
   "name": "python3"
  },
  "language_info": {
   "codemirror_mode": {
    "name": "ipython",
    "version": 3
   },
   "file_extension": ".py",
   "mimetype": "text/x-python",
   "name": "python",
   "nbconvert_exporter": "python",
   "pygments_lexer": "ipython3",
   "version": "3.8.5"
  }
 },
 "nbformat": 4,
 "nbformat_minor": 4
}
